{
  "nbformat": 4,
  "nbformat_minor": 0,
  "metadata": {
    "colab": {
      "name": "DrParastooGhalamchi-ADA.ipynb",
      "provenance": [],
      "toc_visible": true,
      "authorship_tag": "ABX9TyMSunOKoeaErVU0SS5eseAc",
      "include_colab_link": true
    },
    "kernelspec": {
      "name": "python3",
      "display_name": "Python 3"
    }
  },
  "cells": [
    {
      "cell_type": "markdown",
      "metadata": {
        "id": "view-in-github",
        "colab_type": "text"
      },
      "source": [
        "<a href=\"https://colab.research.google.com/github/Parastoo-Ghalamchi/Newborn_Par1/blob/master/DrParastooGhalamchi_ADA.ipynb\" target=\"_parent\"><img src=\"https://colab.research.google.com/assets/colab-badge.svg\" alt=\"Open In Colab\"/></a>"
      ]
    },
    {
      "cell_type": "markdown",
      "metadata": {
        "id": "0x3kZORtw1Mr",
        "colab_type": "text"
      },
      "source": [
        ""
      ]
    },
    {
      "cell_type": "markdown",
      "metadata": {
        "id": "P1wt_pKTw6pg",
        "colab_type": "text"
      },
      "source": [
        "# Title: A program that roll a 3-sided dice"
      ]
    },
    {
      "cell_type": "markdown",
      "metadata": {
        "id": "mY1piFyYwwt2",
        "colab_type": "text"
      },
      "source": [
        "Pseudocode:\n",
        "1. Print a welcome message\n",
        "2. Store three sides of the dice\n",
        "3. Randomly select one side\n",
        "4. Print the result\n",
        "5. Keep rolling as long as the user prompts \"yes\"\n",
        "\n"
      ]
    },
    {
      "cell_type": "markdown",
      "metadata": {
        "id": "T6qHGOoxwxE3",
        "colab_type": "text"
      },
      "source": [
        ""
      ]
    }
  ]
}